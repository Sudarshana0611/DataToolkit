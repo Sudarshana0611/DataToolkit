{
  "nbformat": 4,
  "nbformat_minor": 0,
  "metadata": {
    "colab": {
      "provenance": []
    },
    "kernelspec": {
      "name": "python3",
      "display_name": "Python 3"
    },
    "language_info": {
      "name": "python"
    }
  },
  "cells": [
    {
      "cell_type": "markdown",
      "source": [
        "1. What is NumPy, and why is it widely used in Python ?\n",
        "ANS : NumPy is a fundamental library in Python for scientific computing. It offers powerful features for working with multidimensional arrays and performing various mathematical operations efficiently.\n",
        "\n",
        "NumPy (Numerical Python) is an open source Python library that has a wide range of inbuilt functions.\n",
        "\n",
        "Why is it widely ued in pyhton ;NumPy is ideal for handling large amounts of homogeneous (same-type) data, offering significant improvements in speed and memory efficiency. It also provides high-level syntax for a wide range of numerical operations, making it a powerful tool for scientific computing and data processing on the CPU.\n",
        "\n"
      ],
      "metadata": {
        "id": "x3EeYTqc92y3"
      }
    },
    {
      "cell_type": "markdown",
      "source": [
        "2. How does broadcasting work in NumPy ?\n",
        "ANS : Broadcasting is a mechanism in NumPy that allows performing operations on arrays of different shapes under certain conditions. When operands have different shapes, NumPy expands the smaller array to match the larger one in a specific way to perform element-wise operations."
      ],
      "metadata": {
        "id": "qahgshW9-PGb"
      }
    },
    {
      "cell_type": "markdown",
      "source": [
        "3. A What is a Pandas DataFrame ?\n",
        "ANS : A Pandas DataFrame is a 2-dimensional labeled data structure in Python, provided by the pandas library. You can think of it like an Excel spreadsheet or a SQL table — it has rows and columns, where each column can hold data of a different type (e.g., integers, floats, strings).\n",
        "\n",
        "Key Features of a DataFrame:\n",
        "Labeled axes: Both rows (index) and columns have labels.\n",
        "\n",
        "Heterogeneous data: Columns can contain different data types.\n",
        "\n",
        "Size mutable: You can add or drop rows/columns easily.\n",
        "\n",
        "Powerful operations: Supports filtering, aggregation, joining, reshaping, and much more"
      ],
      "metadata": {
        "id": "GGjCNhgR-02f"
      }
    },
    {
      "cell_type": "markdown",
      "source": [
        "4.  Explain the use of the groupby() method in Pandas.\n",
        "ANS : The groupby() method in Pandas is used to split a DataFrame into groups based on some criteria, then apply a function (like sum, mean, count, etc.) to each group, and finally combine the results into a new DataFrame or Series.\n",
        "\n",
        "This is based on the \"split-apply-combine\" strategy:\n",
        "\n",
        "Split the data into groups.\n",
        "\n",
        "Apply a function to each group.\n",
        "\n",
        "Combine the results.\n",
        "\n"
      ],
      "metadata": {
        "id": "OTHbJzkE_EWE"
      }
    },
    {
      "cell_type": "markdown",
      "source": [
        "5. Why is Seaborn preferred for statistical visualizations?\n",
        "ANS : Seaborn is preferred for statistical visualizations because it is built specifically for making complex, informative, and attractive statistical graphics with minimal code. It’s built on top of Matplotlib and integrates well with Pandas, making it a go-to tool for data scientists and analysts."
      ],
      "metadata": {
        "id": "87FyBALB_NnJ"
      }
    },
    {
      "cell_type": "markdown",
      "source": [
        "6. A What are the differences between NumPy arrays and Python lists?\n",
        "ANS :\n",
        "\n",
        " 1. Data Type Consistency\n",
        "NumPy Arrays: All elements must be of the same data type (e.g., all integers or all floats), which allows for faster computation.\n",
        "\n",
        "Python Lists: Can hold elements of mixed data types (e.g., integers, strings, floats together).\n",
        "\n",
        "  2. Performance\n",
        "NumPy Arrays: Much faster due to optimized C backend and support for vectorized operations.\n",
        "\n",
        "Python Lists: Slower for numerical computations; operations typically require explicit loops.\n",
        "\n",
        " 3. Functionality\n",
        "NumPy Arrays: Support mathematical operations like addition, multiplication, and broadcasting out of the box.\n",
        "\n",
        " 4. Memory Efficiency\n",
        "NumPy Arrays: Use less memory and are more space-efficient for large datasets.\n",
        "\n",
        "Python Lists: Use more memory due to dynamic typing and pointer overhead.\n",
        "\n",
        "  5. Advanced Features\n",
        "NumPy Arrays: Support slicing, reshaping, matrix multiplication, broadcasting, etc.\n",
        "\n",
        "Python Lists: Limited to basic indexing and slicing.\n",
        "\n"
      ],
      "metadata": {
        "id": "XkgHGgzV_W_Q"
      }
    },
    {
      "cell_type": "markdown",
      "source": [
        "7. What is a heatmap, and when should it be used ?\n",
        "ANS : A heatmap is a 2D visualization that uses color to represent data values in a matrix format.\n",
        "\n",
        " Use it when:\n",
        "Showing correlations between variables.\n",
        "\n",
        "Visualizing tabular data (e.g. pivot tables).\n",
        "\n",
        "Highlighting patterns, trends, or outliers in large datasets"
      ],
      "metadata": {
        "id": "cNDaybze_2mC"
      }
    },
    {
      "cell_type": "markdown",
      "source": [
        "8. What does the term “vectorized operation” mean in NumPy ?\n",
        "ANS : A vectorized operation in NumPy refers to performing element-wise operations on entire arrays without using explicit loops.\n",
        "Faster execution (leverages optimized C code under the hood).\n",
        "Cleaner and more readable code.\n",
        "\n",
        "import numpy as np\n",
        "a = np.array([1, 2, 3])\n",
        "b = np.array([4, 5, 6])\n",
        "result = a + b  # Vectorized addition: [5, 7, 9]\n"
      ],
      "metadata": {
        "id": "wWuGxw8SAGZZ"
      }
    },
    {
      "cell_type": "markdown",
      "source": [
        "9.  How does Matplotlib differ from Plotly ?\n",
        "ANS : Matplotlib and Plotly are both popular Python libraries for data visualization, but they differ significantly in style, interactivity, and use cases.\n",
        "Use Matplotlib for static, publication-quality plots.\n",
        "\n",
        "Use Plotly for interactive, web-friendly visualizations."
      ],
      "metadata": {
        "id": "WJ5FEo0TAjgy"
      }
    },
    {
      "cell_type": "markdown",
      "source": [
        "10. What is the significance of hierarchical indexing in Pandas ?\n",
        "ANS : Hierarchical indexing (also called MultiIndexing) in Pandas allows you to have multiple levels of indexing on a single axis (rows or columns). This enables you to work with high-dimensional data in a 2D DataFrame structure.\n",
        "Significance of Hierarchical Indexing:\n",
        "I.Organizes complex data naturally : Like grouping by multiple keys (e.g., Region → Country → City).\n",
        "\n",
        "II. Enables advanced slicing and subsetting : You can access subsets of data using multi-level keys.\n",
        "\n",
        "III. Facilitates reshaping : Easier use of methods like .stack(), .unstack(), and .pivot_table().\n",
        "\n",
        "IV. Improves readability and structure : Data looks more organized, especially when grouped.\n",
        "\n"
      ],
      "metadata": {
        "id": "bxXbBPlNA3Pg"
      }
    },
    {
      "cell_type": "markdown",
      "source": [
        "11. What is the role of Seaborn’s pairplot() function ?\n",
        "ANS : The pairplot() function in Seaborn is used to create a matrix of scatter plots for pairwise relationships in a dataset, along with histograms (or kernel density plots) on the diagonal. It helps in visualizing the correlations between multiple numerical variables in a dataset."
      ],
      "metadata": {
        "id": "N5hgXo_FBXUH"
      }
    },
    {
      "cell_type": "markdown",
      "source": [
        "12. What is the purpose of the describe() function in Pandas ?\n",
        "ANS : The describe() function in Pandas provides a quick summary of the statistical properties of a DataFrame or Series, helping you to understand the distribution and key statistics of the data.\n",
        "\n",
        " Purpose of describe():\n",
        "Summarizes key statistics for numerical columns (mean, standard deviation, min, max, quartiles).\n",
        "\n",
        "Provides count, mean, standard deviation, min, 25th percentile, median (50th percentile), 75th percentile, and max.\n",
        "\n",
        "For categorical data, it shows count, unique values, top (most frequent) value, and its frequency.\n",
        "\n"
      ],
      "metadata": {
        "id": "CaKoffiIBhPP"
      }
    },
    {
      "cell_type": "markdown",
      "source": [
        "13. Why is handling missing data important in Pandas?\n",
        "ANS : Accuracy: Missing data can distort calculations (e.g., mean, sum) and lead to inaccurate analysis.\n",
        "\n",
        "Error Prevention: Many operations and machine learning algorithms fail when encountering NaN values.\n",
        "\n",
        "Data Consistency: Ensures your dataset is reliable and ready for modeling or further analysis.\n",
        "\n",
        "Improves Results: Proper handling (removal, imputation, interpolation) ensures more robust conclusions."
      ],
      "metadata": {
        "id": "gNy-CgaUBrir"
      }
    },
    {
      "cell_type": "markdown",
      "source": [
        "14. What are the benefits of using Plotly for data visualization ?\n",
        "ANS : Interactivity: Built-in features like zooming, tooltips, and clickable events.\n",
        "\n",
        "Web-Ready: Easily integrates with web applications and dashboards.\n",
        "\n",
        "Wide Plot Range: Supports many plot types, including 3D and geographic plots.\n",
        "\n",
        "Customization: Highly customizable styling and interactivity.\n",
        "\n",
        "Ease of Use: Intuitive syntax with high-level functions.\n",
        "\n",
        "Handles Large Data: Efficiently works with large datasets."
      ],
      "metadata": {
        "id": "oEi5JCdEB583"
      }
    },
    {
      "cell_type": "markdown",
      "source": [
        "15.  How does NumPy handle multidimensional arrays ?\n",
        "ANS : NumPy handles multidimensional arrays using its ndarray object, which supports:\n",
        "\n",
        "Multiple dimensions: Arrays can have any number of dimensions (1D, 2D, 3D, etc.).\n",
        "\n",
        "Efficient memory: Stores data in contiguous memory, ensuring speed and low memory usage.\n",
        "\n",
        "Indexing & Slicing: Supports advanced indexing and slicing across multiple dimensions.\n",
        "\n",
        "Element-wise operations: Allows vectorized operations on entire arrays without explicit loops.\n",
        "\n",
        "Reshaping & Broadcasting: Easily reshape arrays and perform operations on arrays of different shapes"
      ],
      "metadata": {
        "id": "CK2Ajq-LCXaJ"
      }
    },
    {
      "cell_type": "markdown",
      "source": [
        "16. What is the role of Bokeh in data visualization?\n",
        "ANS : Interactivity:\n",
        "\n",
        "Bokeh enables the creation of interactive plots with features like zooming, panning, hover tooltips, and linked brushing (linking multiple plots together).\n",
        "\n",
        "Web-Friendly:\n",
        "\n",
        "Bokeh visualizations can be easily embedded into web pages or web applications. It produces interactive HTML outputs that can be viewed in web browsers.\n",
        "\n",
        "High-Performance:\n",
        "\n",
        "Bokeh is designed for large datasets and can efficiently handle real-time streaming data, which is important for web applications with dynamic data.\n",
        "\n",
        "Customizability:\n",
        "\n",
        "Bokeh allows fine-grained control over plot aesthetics (colors, styles, fonts) and functionality (widgets, callbacks), making it highly customizable.\n",
        "\n",
        "Integration with Other Libraries:\n",
        "\n",
        "Bokeh integrates well with other Python libraries like Pandas, NumPy, Matplotlib, and can even be used alongside Dash to create full-fledged interactive dashboards.\n",
        "\n"
      ],
      "metadata": {
        "id": "l_7G3fRNCtA_"
      }
    },
    {
      "cell_type": "markdown",
      "source": [
        "17.  Explain the difference between apply() and map() in Pandas ?\n",
        "apply():\n",
        "\n",
        "Works on DataFrames and Series.\n",
        "\n",
        "Can apply a function row-wise or column-wise in DataFrames.\n",
        "\n",
        "More flexible and can handle complex functions.\n",
        "\n",
        "Slower for large datasets.\n",
        "\n",
        "Returns a DataFrame or Series depending on the operation.\n",
        "\n",
        "map():\n",
        "\n",
        "Works only on Series.\n",
        "\n",
        "Used for element-wise transformations.\n",
        "\n",
        "Typically for simple mappings like replacing or transforming values.\n",
        "\n",
        "Faster for Series operations.\n",
        "\n",
        "Returns a Series."
      ],
      "metadata": {
        "id": "XfY3p7o5C-Rt"
      }
    },
    {
      "cell_type": "markdown",
      "source": [
        "18. What are some advanced features of NumPy?\n",
        "ANS : Broadcasting:\n",
        "\n",
        "Enables arithmetic operations on arrays with different shapes by \"stretching\" the smaller array to match the larger one.\n",
        "\n",
        "Vectorization:\n",
        "\n",
        "Allows performing element-wise operations on arrays without explicit loops, making code faster and more efficient.\n",
        "\n",
        "Linear Algebra:\n",
        "\n",
        "Provides functions for matrix operations, such as dot(), inv(), eig(), and svd().\n",
        "\n",
        "Random Module:\n",
        "\n",
        "Includes powerful methods like rand(), normal(), randint(), and shuffle() for generating random numbers and random sampling.\n",
        "\n",
        "Advanced Indexing & Slicing:\n",
        "\n",
        "Allows fancy indexing with boolean arrays, integer arrays, and multidimensional slicing.\n",
        "\n",
        "Memory Management:\n",
        "\n",
        "Efficiently handles large datasets through views (sharing memory) rather than copies, reducing memory overhead."
      ],
      "metadata": {
        "id": "v-PWWaubDPWt"
      }
    },
    {
      "cell_type": "markdown",
      "source": [
        "19.  How does Pandas simplify time series analysis ?\n",
        "ANS : Datetime Indexing: Easy conversion of strings to datetime and efficient time-based indexing.\n",
        "\n",
        "Resampling: Simple conversion between time frequencies (e.g., daily to monthly).\n",
        "\n",
        "Time Slicing: Easy filtering and slicing of data based on specific time periods.\n",
        "\n",
        "Rolling Windows: Allows easy calculation of moving averages and other statistics.\n",
        "\n",
        "Missing Data Handling: Methods like fillna() and interpolate() for missing values.\n",
        "\n",
        "Shifting and Lagging: Easy manipulation of data with .shift()."
      ],
      "metadata": {
        "id": "7sq6tucaDd_z"
      }
    },
    {
      "cell_type": "markdown",
      "source": [
        "20. A What is the role of a pivot table in Pandas ?\n",
        "ANS : A pivot table in Pandas is used to summarize and aggregate data. It allows you to rearrange data into a table format with specified rows, columns, and aggregations (like sum, mean, count, etc.).\n",
        "\n",
        "Key Roles:\n",
        "Group data based on unique values.\n",
        "\n",
        "Aggregate data using functions like sum, mean, etc.\n",
        "\n",
        "Simplifies complex datasets into a summary table."
      ],
      "metadata": {
        "id": "QN7A0zt-DqaO"
      }
    },
    {
      "cell_type": "markdown",
      "source": [
        "21. Why is NumPy’s array slicing faster than Python’s list slicing ?\n",
        "ANS : NumPy's array slicing is faster than Python's list slicing because:\n",
        "\n",
        "Contiguous memory: NumPy arrays are stored in contiguous memory, allowing faster access.\n",
        "\n",
        "No copying: NumPy returns a view (reference) of the array, while Python lists create a new copy.\n",
        "\n",
        "Optimized C implementation: NumPy uses highly efficient, compiled C code for slicing, while Python lists rely on slower Python code."
      ],
      "metadata": {
        "id": "SiKcQudID05J"
      }
    },
    {
      "cell_type": "markdown",
      "source": [
        "22. What are some common use cases for Seaborn ?\n",
        "ANS : Common use cases for Seaborn:\n",
        "\n",
        "Statistical Visualization: Plotting distributions (e.g., histograms, KDEs) and relationships (e.g., scatter plots, regression lines).\n",
        "\n",
        "Categorical Data: Visualizing categorical data with plots like bar plots, box plots, and violin plots.\n",
        "\n",
        "Heatmaps: Displaying correlation matrices or other 2D data using color intensities.\n",
        "\n",
        "Pair Plots: Exploring relationships between multiple variables at once.\n",
        "\n",
        "Facet Grids: Creating multiple subplots to compare data across different categories."
      ],
      "metadata": {
        "id": "rFm9SbMUD_oT"
      }
    },
    {
      "cell_type": "markdown",
      "source": [
        "# **practical**"
      ],
      "metadata": {
        "id": "HY1wuNvEWLPB"
      }
    },
    {
      "cell_type": "code",
      "source": [
        "# How do you create a 2D NumPy array and calculate the sum of each row.\n",
        "import numpy as np\n",
        "\n",
        "# Create a 2D NumPy array\n",
        "array_2d = np.array([[1, 2, 3],\n",
        "                     [4, 5, 6],\n",
        "                     [7, 8, 9]])\n",
        "\n",
        "# Calculate the sum of each row\n",
        "row_sums = np.sum(array_2d, axis=1)\n",
        "\n",
        "# Print the results\n",
        "print(\"2D Array:\")\n",
        "print(array_2d)\n",
        "print(\"Sum of each row:\", row_sums)\n",
        "\n",
        "\n"
      ],
      "metadata": {
        "colab": {
          "base_uri": "https://localhost:8080/"
        },
        "id": "QECLaVt3WRVD",
        "outputId": "1d95b2f7-25b1-4648-8d02-81b594a14ef8"
      },
      "execution_count": 2,
      "outputs": [
        {
          "output_type": "stream",
          "name": "stdout",
          "text": [
            "2D Array:\n",
            "[[1 2 3]\n",
            " [4 5 6]\n",
            " [7 8 9]]\n",
            "Sum of each row: [ 6 15 24]\n"
          ]
        }
      ]
    },
    {
      "cell_type": "code",
      "source": [
        "# Write a Pandas script to find the mean of a specific column in a DataFrame.\n",
        "import pandas as pd\n",
        "\n",
        "# Create a sample DataFrame\n",
        "data = {\n",
        "    'Name': ['Alice', 'Bob', 'Charlie'],\n",
        "    'Age': [25, 30, 35],\n",
        "    'Score': [85, 90, 95]\n",
        "}\n",
        "\n",
        "df = pd.DataFrame(data)\n",
        "\n",
        "# Calculate the mean of the 'Score' column\n",
        "mean_score = df['Score'].mean()\n",
        "\n",
        "# Print the result\n",
        "print(\"Mean of 'Score' column:\", mean_score)\n"
      ],
      "metadata": {
        "colab": {
          "base_uri": "https://localhost:8080/"
        },
        "id": "YTVBa-CnXFWE",
        "outputId": "766cd1a2-0924-412a-fe8e-ce18548e70c3"
      },
      "execution_count": 3,
      "outputs": [
        {
          "output_type": "stream",
          "name": "stdout",
          "text": [
            "Mean of 'Score' column: 90.0\n"
          ]
        }
      ]
    },
    {
      "cell_type": "code",
      "source": [
        "#Create a scatter plot using Matplotlib.\n",
        "import matplotlib.pyplot as plt\n",
        "\n",
        "# Data for the scatter plot\n",
        "x = [1, 2, 3, 4, 5]\n",
        "y = [2, 4, 6, 8, 10]\n",
        "\n",
        "# Create a scatter plot\n",
        "plt.scatter(x, y)\n",
        "\n",
        "# Add labels and title\n",
        "plt.xlabel('X-axis')\n",
        "plt.ylabel('Y-axis')\n",
        "plt.title('Scatter Plot')\n",
        "#Create a scatter plot using Matplotlib.\n",
        "import matplotlib.pyplot as plt\n",
        "\n",
        "# Data for the scatter plot\n",
        "x = [1, 2, 3, 4, 5]\n",
        "y = [2, 4, 6, 8, 10]\n",
        "\n",
        "# Create a scatter plot\n",
        "plt.scatter(x, y)\n",
        "\n",
        "# Add labels and title\n",
        "plt.xlabel('X-axis')\n",
        "plt.ylabel('Y-axis')\n",
        "plt.title('Scatter Plot')\n",
        "\n",
        "# Display the plot\n",
        "plt.show()"
      ],
      "metadata": {
        "colab": {
          "base_uri": "https://localhost:8080/",
          "height": 472
        },
        "id": "gzxwzqmtXkC_",
        "outputId": "152910b7-757e-447b-c98c-2477f38cc381"
      },
      "execution_count": 6,
      "outputs": [
        {
          "output_type": "display_data",
          "data": {
            "text/plain": [
              "<Figure size 640x480 with 1 Axes>"
            ],
            "image/png": "[encoded data removed]"
          },
          "metadata": {}
        }
      ]
    },
    {
      "cell_type": "code",
      "source": [
        "# How do you calculate the correlation matrix using Seaborn and visualize it with a heatmap.\n",
        "import seaborn as sns\n",
        "import matplotlib.pyplot\n",
        "import matplotlib.pyplot as plt\n",
        "\n",
        "# Sample DataFrame\n",
        "data = {\n",
        "    'Math': [90, 80, 70, 60],\n",
        "    'Science': [88, 76, 70, 65],\n",
        "    'English': [75, 85, 78, 72]\n",
        "}\n",
        "df = pd.DataFrame(data)\n",
        "\n",
        "# Calculate the correlation matrix\n",
        "corr_matrix = df.corr()\n",
        "\n",
        "# Visualize with a heatmap\n",
        "sns.heatmap(corr_matrix, annot=True, cmap='coolwarm', linewidths=0.5)\n",
        "plt.title(\"Correlation Matrix Heatmap\")\n",
        "plt.show()"
      ],
      "metadata": {
        "colab": {
          "base_uri": "https://localhost:8080/",
          "height": 452
        },
        "id": "zZbJZbzNYFkc",
        "outputId": "4eb6941e-45fe-4af4-d6e5-e9b8699ca550"
      },
      "execution_count": 7,
      "outputs": [
        {
          "output_type": "display_data",
          "data": {
            "text/plain": [
              "<Figure size 640x480 with 2 Axes>"
            ],
            "image/png": "[encoded data removed]"
          },
          "metadata": {}
        }
      ]
    },
    {
      "cell_type": "code",
      "source": [
        "#Generate a bar plot using Plotly.\n",
        "import plotly.express as px\n",
        "\n",
        "# Sample data\n",
        "data = {\n",
        "    'Fruits': ['Apples', 'Oranges', 'Bananas', 'Grapes'],\n",
        "    'Sales': [150, 200, 130, 170]\n",
        "}\n",
        "\n",
        "# Create a DataFrame\n",
        "import pandas as pd\n",
        "df = pd.DataFrame(data)\n",
        "\n",
        "# Generate bar plot\n",
        "fig = px.bar(df, x='Fruits', y='Sales', title='Fruit Sales')\n",
        "\n",
        "# Show the plot\n",
        "fig.show()\n"
      ],
      "metadata": {
        "colab": {
          "base_uri": "https://localhost:8080/",
          "height": 542
        },
        "id": "mQgPF9yOYiFq",
        "outputId": "38cec7a0-b9cd-4c2e-a2bb-3f224335c5fa"
      },
      "execution_count": 8,
      "outputs": [
        {
          "output_type": "display_data",
          "data": {
            "text/html": [
              "<html>\n",
              "<head><meta charset=\"utf-8\" /></head>\n",
              "<body>\n",
              "    <div>            <script src=\"https://cdnjs.cloudflare.com/ajax/libs/mathjax/2.7.5/MathJax.js?config=TeX-AMS-MML_SVG\"></script><script type=\"text/javascript\">if (window.MathJax && window.MathJax.Hub && window.MathJax.Hub.Config) {window.MathJax.Hub.Config({SVG: {font: \"STIX-Web\"}});}</script>                <script type=\"text/javascript\">window.PlotlyConfig = {MathJaxConfig: 'local'};</script>\n",
              "        <script charset=\"utf-8\" src=\"https://cdn.plot.ly/plotly-2.35.2.min.js\"></script>                <div id=\"a2761a1b-7159-4c4e-b363-4f548ea2222c\" class=\"plotly-graph-div\" style=\"height:525px; width:100%;\"></div>            <script type=\"text/javascript\">                                    window.PLOTLYENV=window.PLOTLYENV || {};                                    if (document.getElementById(\"a2761a1b-7159-4c4e-b363-4f548ea2222c\")) {                    Plotly.newPlot(                        \"a2761a1b-7159-4c4e-b363-4f548ea2222c\",                        [{\"alignmentgroup\":\"True\",\"hovertemplate\":\"Fruits=%{x}\\u003cbr\\u003eSales=%{y}\\u003cextra\\u003e\\u003c\\u002fextra\\u003e\",\"legendgroup\":\"\",\"marker\":{\"color\":\"#636efa\",\"pattern\":{\"shape\":\"\"}},\"name\":\"\",\"offsetgroup\":\"\",\"orientation\":\"v\",\"showlegend\":false,\"textposition\":\"auto\",\"x\":[\"Apples\",\"Oranges\",\"Bananas\",\"Grapes\"],\"xaxis\":\"x\",\"y\":[150,200,130,170],\"yaxis\":\"y\",\"type\":\"bar\"}],                        {\"template\":{\"data\":{\"histogram2dcontour\":[{\"type\":\"histogram2dcontour\",\"colorbar\":{\"outlinewidth\":0,\"ticks\":\"\"},\"colorscale\":[[0.0,\"#0d0887\"],[0.1111111111111111,\"#46039f\"],[0.2222222222222222,\"#7201a8\"],[0.3333333333333333,\"#9c179e\"],[0.4444444444444444,\"#bd3786\"],[0.5555555555555556,\"#d8576b\"],[0.6666666666666666,\"#ed7953\"],[0.7777777777777778,\"#fb9f3a\"],[0.8888888888888888,\"#fdca26\"],[1.0,\"#f0f921\"]]}],\"choropleth\":[{\"type\":\"choropleth\",\"colorbar\":{\"outlinewidth\":0,\"ticks\":\"\"}}],\"histogram2d\":[{\"type\":\"histogram2d\",\"colorbar\":{\"outlinewidth\":0,\"ticks\":\"\"},\"colorscale\":[[0.0,\"#0d0887\"],[0.1111111111111111,\"#46039f\"],[0.2222222222222222,\"#7201a8\"],[0.3333333333333333,\"#9c179e\"],[0.4444444444444444,\"#bd3786\"],[0.5555555555555556,\"#d8576b\"],[0.6666666666666666,\"#ed7953\"],[0.7777777777777778,\"#fb9f3a\"],[0.8888888888888888,\"#fdca26\"],[1.0,\"#f0f921\"]]}],\"heatmap\":[{\"type\":\"heatmap\",\"colorbar\":{\"outlinewidth\":0,\"ticks\":\"\"},\"colorscale\":[[0.0,\"#0d0887\"],[0.1111111111111111,\"#46039f\"],[0.2222222222222222,\"#7201a8\"],[0.3333333333333333,\"#9c179e\"],[0.4444444444444444,\"#bd3786\"],[0.5555555555555556,\"#d8576b\"],[0.6666666666666666,\"#ed7953\"],[0.7777777777777778,\"#fb9f3a\"],[0.8888888888888888,\"#fdca26\"],[1.0,\"#f0f921\"]]}],\"heatmapgl\":[{\"type\":\"heatmapgl\",\"colorbar\":{\"outlinewidth\":0,\"ticks\":\"\"},\"colorscale\":[[0.0,\"#0d0887\"],[0.1111111111111111,\"#46039f\"],[0.2222222222222222,\"#7201a8\"],[0.3333333333333333,\"#9c179e\"],[0.4444444444444444,\"#bd3786\"],[0.5555555555555556,\"#d8576b\"],[0.6666666666666666,\"#ed7953\"],[0.7777777777777778,\"#fb9f3a\"],[0.8888888888888888,\"#fdca26\"],[1.0,\"#f0f921\"]]}],\"contourcarpet\":[{\"type\":\"contourcarpet\",\"colorbar\":{\"outlinewidth\":0,\"ticks\":\"\"}}],\"contour\":[{\"type\":\"contour\",\"colorbar\":{\"outlinewidth\":0,\"ticks\":\"\"},\"colorscale\":[[0.0,\"#0d0887\"],[0.1111111111111111,\"#46039f\"],[0.2222222222222222,\"#7201a8\"],[0.3333333333333333,\"#9c179e\"],[0.4444444444444444,\"#bd3786\"],[0.5555555555555556,\"#d8576b\"],[0.6666666666666666,\"#ed7953\"],[0.7777777777777778,\"#fb9f3a\"],[0.8888888888888888,\"#fdca26\"],[1.0,\"#f0f921\"]]}],\"surface\":[{\"type\":\"surface\",\"colorbar\":{\"outlinewidth\":0,\"ticks\":\"\"},\"colorscale\":[[0.0,\"#0d0887\"],[0.1111111111111111,\"#46039f\"],[0.2222222222222222,\"#7201a8\"],[0.3333333333333333,\"#9c179e\"],[0.4444444444444444,\"#bd3786\"],[0.5555555555555556,\"#d8576b\"],[0.6666666666666666,\"#ed7953\"],[0.7777777777777778,\"#fb9f3a\"],[0.8888888888888888,\"#fdca26\"],[1.0,\"#f0f921\"]]}],\"mesh3d\":[{\"type\":\"mesh3d\",\"colorbar\":{\"outlinewidth\":0,\"ticks\":\"\"}}],\"scatter\":[{\"fillpattern\":{\"fillmode\":\"overlay\",\"size\":10,\"solidity\":0.2},\"type\":\"scatter\"}],\"parcoords\":[{\"type\":\"parcoords\",\"line\":{\"colorbar\":{\"outlinewidth\":0,\"ticks\":\"\"}}}],\"scatterpolargl\":[{\"type\":\"scatterpolargl\",\"marker\":{\"colorbar\":{\"outlinewidth\":0,\"ticks\":\"\"}}}],\"bar\":[{\"error_x\":{\"color\":\"#2a3f5f\"},\"error_y\":{\"color\":\"#2a3f5f\"},\"marker\":{\"line\":{\"color\":\"#E5ECF6\",\"width\":0.5},\"pattern\":{\"fillmode\":\"overlay\",\"size\":10,\"solidity\":0.2}},\"type\":\"bar\"}],\"scattergeo\":[{\"type\":\"scattergeo\",\"marker\":{\"colorbar\":{\"outlinewidth\":0,\"ticks\":\"\"}}}],\"scatterpolar\":[{\"type\":\"scatterpolar\",\"marker\":{\"colorbar\":{\"outlinewidth\":0,\"ticks\":\"\"}}}],\"histogram\":[{\"marker\":{\"pattern\":{\"fillmode\":\"overlay\",\"size\":10,\"solidity\":0.2}},\"type\":\"histogram\"}],\"scattergl\":[{\"type\":\"scattergl\",\"marker\":{\"colorbar\":{\"outlinewidth\":0,\"ticks\":\"\"}}}],\"scatter3d\":[{\"type\":\"scatter3d\",\"line\":{\"colorbar\":{\"outlinewidth\":0,\"ticks\":\"\"}},\"marker\":{\"colorbar\":{\"outlinewidth\":0,\"ticks\":\"\"}}}],\"scattermapbox\":[{\"type\":\"scattermapbox\",\"marker\":{\"colorbar\":{\"outlinewidth\":0,\"ticks\":\"\"}}}],\"scatterternary\":[{\"type\":\"scatterternary\",\"marker\":{\"colorbar\":{\"outlinewidth\":0,\"ticks\":\"\"}}}],\"scattercarpet\":[{\"type\":\"scattercarpet\",\"marker\":{\"colorbar\":{\"outlinewidth\":0,\"ticks\":\"\"}}}],\"carpet\":[{\"aaxis\":{\"endlinecolor\":\"#2a3f5f\",\"gridcolor\":\"white\",\"linecolor\":\"white\",\"minorgridcolor\":\"white\",\"startlinecolor\":\"#2a3f5f\"},\"baxis\":{\"endlinecolor\":\"#2a3f5f\",\"gridcolor\":\"white\",\"linecolor\":\"white\",\"minorgridcolor\":\"white\",\"startlinecolor\":\"#2a3f5f\"},\"type\":\"carpet\"}],\"table\":[{\"cells\":{\"fill\":{\"color\":\"#EBF0F8\"},\"line\":{\"color\":\"white\"}},\"header\":{\"fill\":{\"color\":\"#C8D4E3\"},\"line\":{\"color\":\"white\"}},\"type\":\"table\"}],\"barpolar\":[{\"marker\":{\"line\":{\"color\":\"#E5ECF6\",\"width\":0.5},\"pattern\":{\"fillmode\":\"overlay\",\"size\":10,\"solidity\":0.2}},\"type\":\"barpolar\"}],\"pie\":[{\"automargin\":true,\"type\":\"pie\"}]},\"layout\":{\"autotypenumbers\":\"strict\",\"colorway\":[\"#636efa\",\"#EF553B\",\"#00cc96\",\"#ab63fa\",\"#FFA15A\",\"#19d3f3\",\"#FF6692\",\"#B6E880\",\"#FF97FF\",\"#FECB52\"],\"font\":{\"color\":\"#2a3f5f\"},\"hovermode\":\"closest\",\"hoverlabel\":{\"align\":\"left\"},\"paper_bgcolor\":\"white\",\"plot_bgcolor\":\"#E5ECF6\",\"polar\":{\"bgcolor\":\"#E5ECF6\",\"angularaxis\":{\"gridcolor\":\"white\",\"linecolor\":\"white\",\"ticks\":\"\"},\"radialaxis\":{\"gridcolor\":\"white\",\"linecolor\":\"white\",\"ticks\":\"\"}},\"ternary\":{\"bgcolor\":\"#E5ECF6\",\"aaxis\":{\"gridcolor\":\"white\",\"linecolor\":\"white\",\"ticks\":\"\"},\"baxis\":{\"gridcolor\":\"white\",\"linecolor\":\"white\",\"ticks\":\"\"},\"caxis\":{\"gridcolor\":\"white\",\"linecolor\":\"white\",\"ticks\":\"\"}},\"coloraxis\":{\"colorbar\":{\"outlinewidth\":0,\"ticks\":\"\"}},\"colorscale\":{\"sequential\":[[0.0,\"#0d0887\"],[0.1111111111111111,\"#46039f\"],[0.2222222222222222,\"#7201a8\"],[0.3333333333333333,\"#9c179e\"],[0.4444444444444444,\"#bd3786\"],[0.5555555555555556,\"#d8576b\"],[0.6666666666666666,\"#ed7953\"],[0.7777777777777778,\"#fb9f3a\"],[0.8888888888888888,\"#fdca26\"],[1.0,\"#f0f921\"]],\"sequentialminus\":[[0.0,\"#0d0887\"],[0.1111111111111111,\"#46039f\"],[0.2222222222222222,\"#7201a8\"],[0.3333333333333333,\"#9c179e\"],[0.4444444444444444,\"#bd3786\"],[0.5555555555555556,\"#d8576b\"],[0.6666666666666666,\"#ed7953\"],[0.7777777777777778,\"#fb9f3a\"],[0.8888888888888888,\"#fdca26\"],[1.0,\"#f0f921\"]],\"diverging\":[[0,\"#8e0152\"],[0.1,\"#c51b7d\"],[0.2,\"#de77ae\"],[0.3,\"#f1b6da\"],[0.4,\"#fde0ef\"],[0.5,\"#f7f7f7\"],[0.6,\"#e6f5d0\"],[0.7,\"#b8e186\"],[0.8,\"#7fbc41\"],[0.9,\"#4d9221\"],[1,\"#276419\"]]},\"xaxis\":{\"gridcolor\":\"white\",\"linecolor\":\"white\",\"ticks\":\"\",\"title\":{\"standoff\":15},\"zerolinecolor\":\"white\",\"automargin\":true,\"zerolinewidth\":2},\"yaxis\":{\"gridcolor\":\"white\",\"linecolor\":\"white\",\"ticks\":\"\",\"title\":{\"standoff\":15},\"zerolinecolor\":\"white\",\"automargin\":true,\"zerolinewidth\":2},\"scene\":{\"xaxis\":{\"backgroundcolor\":\"#E5ECF6\",\"gridcolor\":\"white\",\"linecolor\":\"white\",\"showbackground\":true,\"ticks\":\"\",\"zerolinecolor\":\"white\",\"gridwidth\":2},\"yaxis\":{\"backgroundcolor\":\"#E5ECF6\",\"gridcolor\":\"white\",\"linecolor\":\"white\",\"showbackground\":true,\"ticks\":\"\",\"zerolinecolor\":\"white\",\"gridwidth\":2},\"zaxis\":{\"backgroundcolor\":\"#E5ECF6\",\"gridcolor\":\"white\",\"linecolor\":\"white\",\"showbackground\":true,\"ticks\":\"\",\"zerolinecolor\":\"white\",\"gridwidth\":2}},\"shapedefaults\":{\"line\":{\"color\":\"#2a3f5f\"}},\"annotationdefaults\":{\"arrowcolor\":\"#2a3f5f\",\"arrowhead\":0,\"arrowwidth\":1},\"geo\":{\"bgcolor\":\"white\",\"landcolor\":\"#E5ECF6\",\"subunitcolor\":\"white\",\"showland\":true,\"showlakes\":true,\"lakecolor\":\"white\"},\"title\":{\"x\":0.05},\"mapbox\":{\"style\":\"light\"}}},\"xaxis\":{\"anchor\":\"y\",\"domain\":[0.0,1.0],\"title\":{\"text\":\"Fruits\"}},\"yaxis\":{\"anchor\":\"x\",\"domain\":[0.0,1.0],\"title\":{\"text\":\"Sales\"}},\"legend\":{\"tracegroupgap\":0},\"title\":{\"text\":\"Fruit Sales\"},\"barmode\":\"relative\"},                        {\"responsive\": true}                    ).then(function(){\n",
              "                            \n",
              "var gd = document.getElementById('a2761a1b-7159-4c4e-b363-4f548ea2222c');\n",
              "var x = new MutationObserver(function (mutations, observer) {{\n",
              "        var display = window.getComputedStyle(gd).display;\n",
              "        if (!display || display === 'none') {{\n",
              "            console.log([gd, 'removed!']);\n",
              "            Plotly.purge(gd);\n",
              "            observer.disconnect();\n",
              "        }}\n",
              "}});\n",
              "\n",
              "// Listen for the removal of the full notebook cells\n",
              "var notebookContainer = gd.closest('#notebook-container');\n",
              "if (notebookContainer) {{\n",
              "    x.observe(notebookContainer, {childList: true});\n",
              "}}\n",
              "\n",
              "// Listen for the clearing of the current output cell\n",
              "var outputEl = gd.closest('.output');\n",
              "if (outputEl) {{\n",
              "    x.observe(outputEl, {childList: true});\n",
              "}}\n",
              "\n",
              "                        })                };                            </script>        </div>\n",
              "</body>\n",
              "</html>"
            ]
          },
          "metadata": {}
        }
      ]
    },
    {
      "cell_type": "code",
      "source": [
        "#Create a DataFrame and add a new column based on an existing columnA\n",
        "import pandas as pd\n",
        "\n",
        "# Sample DataFrame\n",
        "data = {\n",
        "    'Name': ['Alice', 'Bob', 'Charlie'],\n",
        "    'Age': [25, 30, 35]\n",
        "}\n",
        "df = pd.DataFrame(data)\n",
        "\n",
        "# Add a new column 'Doubled_Age'\n",
        "df['Doubled_Age'] = df['Age'] * 2\n",
        "\n",
        "# Print the updated DataFrame\n",
        "print(df)\n"
      ],
      "metadata": {
        "colab": {
          "base_uri": "https://localhost:8080/"
        },
        "id": "WGFGLz54YxMi",
        "outputId": "653be195-53a2-4592-8294-ea16e20d41cc"
      },
      "execution_count": 9,
      "outputs": [
        {
          "output_type": "stream",
          "name": "stdout",
          "text": [
            "      Name  Age  Doubled_Age\n",
            "0    Alice   25           50\n",
            "1      Bob   30           60\n",
            "2  Charlie   35           70\n"
          ]
        }
      ]
    },
    {
      "cell_type": "code",
      "source": [
        "#Write a program to perform element-wise multiplication of two NumPy arrays\n",
        "import numpy as np\n",
        "\n",
        "# Create two NumPy arrays\n",
        "array1 = np.array([1, 2, 3, 4])\n",
        "array2 = np.array([10, 20, 30, 40])\n",
        "\n",
        "# Perform element-wise multiplication\n",
        "result = array1 * array2\n",
        "\n",
        "# Print the result\n",
        "print(\"Array 1:\", array1)\n",
        "print(\"Array 2:\", array2)\n",
        "print(\"Element-wise Multiplication:\", result)\n"
      ],
      "metadata": {
        "colab": {
          "base_uri": "https://localhost:8080/"
        },
        "id": "-YzKWWBjY76H",
        "outputId": "4b72bb8b-840f-4aa9-9cd5-54c48eb1949e"
      },
      "execution_count": 10,
      "outputs": [
        {
          "output_type": "stream",
          "name": "stdout",
          "text": [
            "Array 1: [1 2 3 4]\n",
            "Array 2: [10 20 30 40]\n",
            "Element-wise Multiplication: [ 10  40  90 160]\n"
          ]
        }
      ]
    },
    {
      "cell_type": "code",
      "source": [
        "# Create a line plot with multiple lines using Matplotlib\n",
        "import matplotlib.pyplot as plt\n",
        "# Sample data\n",
        "months = ['Jan', 'Feb', 'Mar', 'Apr', 'May']\n",
        "sales_2023 = [100, 120, 130, 115, 140]\n",
        "sales_2024 = [90, 110, 125, 135, 150]\n",
        "\n",
        "# Create line plot\n",
        "plt.plot(months, sales_2023, label='Sales 2023', marker='o')\n",
        "plt.plot(months, sales_2024, label='Sales 2024', marker='s')\n",
        "\n",
        "# Add titles and labels\n",
        "plt.title('Monthly Sales Comparison')\n",
        "plt.xlabel('Month')\n",
        "plt.ylabel('Sales')\n",
        "plt.legend()\n",
        "\n",
        "# Show the plot\n",
        "plt.grid(True)\n",
        "plt.show()"
      ],
      "metadata": {
        "colab": {
          "base_uri": "https://localhost:8080/",
          "height": 472
        },
        "id": "yv-_f-VIZIHL",
        "outputId": "e957de99-07ee-4a44-f20c-0a3baef4f85a"
      },
      "execution_count": 11,
      "outputs": [
        {
          "output_type": "display_data",
          "data": {
            "text/plain": [
              "<Figure size 640x480 with 1 Axes>"
            ],
            "image/png": "[encoded data removed]"
          },
          "metadata": {}
        }
      ]
    },
    {
      "cell_type": "code",
      "source": [
        "#Generate a Pandas DataFrame and filter rows where a column value is greater than a threshold\n",
        "import pandas as pd\n",
        "\n",
        "# Sample DataFrame\n",
        "data = {\n",
        "    'Name': ['Alice', 'Bob', 'Charlie'],\n",
        "    'Age': [25, 30, 35],\n",
        "    'Score': [85, 90, 95]\n",
        "}\n",
        "df = pd.DataFrame(data)\n",
        "\n",
        "# Filter rows where 'Score' is greater than 90\n",
        "filtered_df = df[df['Score'] > 90]\n",
        "\n",
        "# Print the filtered DataFrame\n",
        "print(filtered_df)\n",
        "\n",
        "\n"
      ],
      "metadata": {
        "colab": {
          "base_uri": "https://localhost:8080/"
        },
        "id": "yfnl2W6fZZ2V",
        "outputId": "7a3d1b94-5ac5-4a29-d756-4d67f809aaa3"
      },
      "execution_count": 12,
      "outputs": [
        {
          "output_type": "stream",
          "name": "stdout",
          "text": [
            "      Name  Age  Score\n",
            "2  Charlie   35     95\n"
          ]
        }
      ]
    },
    {
      "cell_type": "code",
      "source": [
        "#Create a histogram using Seaborn to visualize a distribution\n",
        "import seaborn as sns\n",
        "import matplotlib.pyplot as plt\n",
        "\n",
        "# Sample data (e.g., exam scores)\n",
        "data = [55, 60, 62, 65, 68, 70, 72, 75, 75, 77, 78, 80, 85, 88, 90, 92, 95]\n",
        "\n",
        "# Create a histogram using seaborn\n",
        "sns.histplot(data, bins=8, kde=True, color='skyblue')\n",
        "\n",
        "# Add titles and labels\n",
        "plt.title(\"Distribution of Exam Scores\")\n",
        "plt.xlabel(\"Scores\")\n",
        "plt.ylabel(\"Frequency\")\n",
        "\n",
        "# Show the plot\n",
        "plt.show()\n"
      ],
      "metadata": {
        "colab": {
          "base_uri": "https://localhost:8080/",
          "height": 472
        },
        "id": "M3qwUEh9ZnPf",
        "outputId": "e122d876-51cd-4283-a5d6-e8ed7dbd9699"
      },
      "execution_count": 14,
      "outputs": [
        {
          "output_type": "display_data",
          "data": {
            "text/plain": [
              "<Figure size 640x480 with 1 Axes>"
            ],
            "image/png": "[encoded data removed]"
          },
          "metadata": {}
        }
      ]
    },
    {
      "cell_type": "code",
      "source": [
        "# Perform matrix multiplication using NumPy\n",
        "import numpy as np\n",
        "\n",
        "# Create two matrices\n",
        "matrix1 = np.array([[1, 2], [3, 4]])\n",
        "matrix2 = np.array([[5, 6], [7, 8]])\n",
        "\n",
        "# Perform matrix multiplication\n",
        "result = np.dot(matrix1, matrix2)\n",
        "\n",
        "# Print the result\n",
        "print(\"Matrix 1:\")\n",
        "print(matrix1)\n",
        "print(\"\\nMatrix 2:\")\n",
        "print(matrix2)\n",
        "print(\"\\nMatrix Multiplication Result:\")\n",
        "print(result)\n",
        "\n"
      ],
      "metadata": {
        "colab": {
          "base_uri": "https://localhost:8080/"
        },
        "id": "HAJbpOh6Z4AQ",
        "outputId": "85ab73b4-b1d7-45b6-a814-b5f1b180a59d"
      },
      "execution_count": 15,
      "outputs": [
        {
          "output_type": "stream",
          "name": "stdout",
          "text": [
            "Matrix 1:\n",
            "[[1 2]\n",
            " [3 4]]\n",
            "\n",
            "Matrix 2:\n",
            "[[5 6]\n",
            " [7 8]]\n",
            "\n",
            "Matrix Multiplication Result:\n",
            "[[19 22]\n",
            " [43 50]]\n"
          ]
        }
      ]
    },
    {
      "cell_type": "code",
      "source": [
        "# Create a 3D scatter plot using Plotly.\n",
        "import plotly.express as px\n",
        "import numpy as np\n",
        "\n",
        "# Sample data for 3D scatter plot\n",
        "x = np.random.rand(100)\n",
        "y = np.random.rand(100)\n",
        "z = np.random.rand(100) # Add the rest of the z array definition\n",
        "\n",
        "# Create the 3D scatter plot\n",
        "fig = px.scatter_3d(x=x, y=y, z=z,\n",
        "                    title='3D Scatter Plot')\n",
        "\n",
        "# Show the plot\n",
        "fig.show()\n"
      ],
      "metadata": {
        "colab": {
          "base_uri": "https://localhost:8080/",
          "height": 542
        },
        "id": "DpJOKXcEavNi",
        "outputId": "92043929-553b-44dc-b477-c51ad7a23698"
      },
      "execution_count": 20,
      "outputs": [
        {
          "output_type": "display_data",
          "data": {
            "text/html": [
              "<html>\n",
              "<head><meta charset=\"utf-8\" /></head>\n",
              "<body>\n",
              "    <div>            <script src=\"https://cdnjs.cloudflare.com/ajax/libs/mathjax/2.7.5/MathJax.js?config=TeX-AMS-MML_SVG\"></script><script type=\"text/javascript\">if (window.MathJax && window.MathJax.Hub && window.MathJax.Hub.Config) {window.MathJax.Hub.Config({SVG: {font: \"STIX-Web\"}});}</script>                <script type=\"text/javascript\">window.PlotlyConfig = {MathJaxConfig: 'local'};</script>\n",
              "        <script charset=\"utf-8\" src=\"https://cdn.plot.ly/plotly-2.35.2.min.js\"></script>                <div id=\"ab6feb72-f7c1-4db5-9704-6e77b15af1b1\" class=\"plotly-graph-div\" style=\"height:525px; width:100%;\"></div>            <script type=\"text/javascript\">                                    window.PLOTLYENV=window.PLOTLYENV || {};                                    if (document.getElementById(\"ab6feb72-f7c1-4db5-9704-6e77b15af1b1\")) {                    Plotly.newPlot(                        \"ab6feb72-f7c1-4db5-9704-6e77b15af1b1\",                        [{\"hovertemplate\":\"x=%{x}\\u003cbr\\u003ey=%{y}\\u003cbr\\u003ez=%{z}\\u003cextra\\u003e\\u003c\\u002fextra\\u003e\",\"legendgroup\":\"\",\"marker\":{\"color\":\"#636efa\",\"symbol\":\"circle\"},\"mode\":\"markers\",\"name\":\"\",\"scene\":\"scene\",\"showlegend\":false,\"x\":[0.5613763317287763,0.11041741465132926,0.7804674229966645,0.8098163070264324,0.23246272009116187,0.6968640885780986,0.380391944498396,0.9942200971056286,0.699458325802569,0.270795979178144,0.9936237480204255,0.03318136708395891,0.968569236886,0.113486823433258,0.4207912484882036,0.6998625708778876,0.9920483306094472,0.7879556572733658,0.10991170340257717,0.53680373811449,0.7606838101335207,0.11970548059261465,0.09464953716336144,0.7632894047141642,0.7137849299488049,0.21377568061800412,0.24056399951851104,0.9631330457294908,0.10016758144393167,0.3487743398187354,0.46382332420129047,0.2697494060270682,0.8216712831359181,0.5392990902776453,0.9060162761264215,0.5580928427153431,0.0328069816485812,0.05207424407970851,0.14253284218993756,0.7834090429205719,0.6505231915790008,0.029074214424573475,0.3110242017281113,0.7831594902350983,0.27175376397682505,0.7262729384149337,0.6932126767833307,0.32683920342645945,0.8584333965697805,0.09095317958025428,0.8933261651584531,0.11165545387904663,0.6940808500947656,0.05741004558772789,0.556282168818836,0.01530798389404886,0.6348337213883092,0.7788948892164966,0.7554414094198676,0.9144306307917411,0.17321585356918523,0.7464634652495937,0.8640636283025205,0.22619675655951765,0.383705390931825,0.5511809549138923,0.4633640674333953,0.6447923389345568,0.276574886134206,0.6153371212093456,0.9132027469129986,0.42610138905414074,0.49793043350497446,0.35429513949878255,0.07830847216798864,0.5062958789854677,0.21849694436103817,0.5144373064167405,0.07145956565648404,0.8352198146909205,0.17449384075096752,0.6787485539525884,0.6353013312101202,0.5824001373486065,0.6075661931998255,0.22066821733924535,0.3850879204525882,0.8605486024652914,0.751967922589809,0.2877531027151893,0.5622884602754944,0.6340995146403192,0.38328793856095533,0.7540986244004602,0.31518701189516196,0.1990133653211389,0.07239286031503522,0.22599797309923175,0.013270989479501893,0.0460465046235049],\"y\":[0.8471867687098731,0.028895930166997985,0.288743232728941,0.05789423148754658,0.22296934264880452,0.6050857762966092,0.23802942979564823,0.8891631538820458,0.03386299959371497,0.9472690936330728,0.2785113477830694,0.7818244078791441,0.9604655695383156,0.015217949644658946,0.9932194856288907,0.18007623762090819,0.3462056404093409,0.8101823824842899,0.9654475181964463,0.2963030618061713,0.9649820264381224,0.45581338807583105,0.9290796000545697,0.7248221417770027,0.4222529207572535,0.4555157879726055,0.6232752362246455,0.8759767023292178,0.16406877446656742,0.5473136603182055,0.17801706963512465,0.3737637172679438,0.7119494189955075,0.3623701718192245,0.022438568555623206,0.9267177602153239,0.12294798009682828,0.7250969303237695,0.5130777317904442,0.7816728577707002,0.9288701279757259,0.9463228871392054,0.9439568093132514,0.3380596740751233,0.80182958549471,0.773127629621663,0.8013060439669832,0.179382828154943,0.36768476633946245,0.1579773093271407,0.17346147994452177,0.8913557490147404,0.1571788934196866,0.7003325734691995,0.3620668818738265,0.1207881791071832,0.5789057200205703,0.6488724123031449,0.7735576148050778,0.8403451006872361,0.8762039275320735,0.7956779522958138,0.37869574472101497,0.9568375522631393,0.7897863203554165,0.6825504012212675,0.4537207149349274,0.5776314064150124,0.26477239707772815,0.24409080946734518,0.8198805343492532,0.08111816804388716,0.8166542004145244,0.34645486918797275,0.3624864796940218,0.2001283996289802,0.832098897183764,0.5554760524432708,0.06950551655580839,0.3307596973793804,0.20567647011685875,0.124313240687975,0.9039970929728979,0.2628114087124085,0.7305473509732856,0.8016934055361334,0.6064854988023851,0.8639175924231498,0.9951526252168623,0.5909458639386009,0.15306489205683993,0.8520777422289241,0.6822572890130858,0.18967155539231284,0.6071942640008529,0.07345563153657086,0.2838951478878846,0.3812063953542856,0.13895580681010444,0.2464927703210531],\"z\":[0.28577273727991936,0.9022416213754731,0.08629727658947017,0.9304211402467601,0.5326259469233943,0.2206457828973818,0.27810123671461273,0.400212965232304,0.30824982637879983,0.7952560448671293,0.9714055388686751,0.3085337580715297,0.6787782672939575,0.74792989291864,0.9919803398082967,0.7914799481698913,0.28841290534920316,0.5078544521056312,0.43533807326152474,0.784572766617555,0.6234608908700172,0.8482959020267211,0.8630950653310299,0.4727234341950549,0.9369307401682501,0.25259433774605966,0.9674150252440376,0.8704293808347928,0.8233488111902199,0.2818519350157893,0.550868938337088,0.9069110463153052,0.44719491611881923,0.3928575310388053,0.6454245857797632,0.9728209236731165,0.6165044988532169,0.7539557729113804,0.550207834679548,0.7392029287650865,0.3003088727766152,0.7314841530355732,0.4313810546950595,0.916256038696748,0.22584538676557708,0.4072586522031736,0.9791877590733691,0.797866331633248,0.09084698648164402,0.08293994293684115,0.8310920981095056,0.59986040492518,0.010066486246817385,0.9121732850355072,0.8298006622349601,0.3627798721355395,0.6262121345612092,0.6803712116367836,0.9992412505597297,0.6243514049378708,0.6999815391297181,0.2694188172769201,0.4823274101300383,0.45920646927944253,0.629893100705766,0.1133191850191515,0.9199933312225796,0.777988162226422,0.9589499927724485,0.43807919924592786,0.8993067878026934,0.7302748831949554,0.9081769277038034,0.5526776977919126,0.2278148689330569,0.3792176079899706,0.12927088478458315,0.37350253025984625,0.61353621513184,0.8605616407857316,0.06745298241145437,0.8207990094527841,0.8871133131735679,0.3685010471937239,0.861305975395763,0.4376062557332573,0.8442479655755432,0.1993724704243478,0.4093945864851417,0.2152057314431466,0.7055490277189429,0.7420730606388412,0.9492396055498982,0.14191139191118562,0.46936140840985907,0.9226383904927313,0.3986984924479726,0.9932216637072716,0.987819631329624,0.8961771946526873],\"type\":\"scatter3d\"}],                        {\"template\":{\"data\":{\"histogram2dcontour\":[{\"type\":\"histogram2dcontour\",\"colorbar\":{\"outlinewidth\":0,\"ticks\":\"\"},\"colorscale\":[[0.0,\"#0d0887\"],[0.1111111111111111,\"#46039f\"],[0.2222222222222222,\"#7201a8\"],[0.3333333333333333,\"#9c179e\"],[0.4444444444444444,\"#bd3786\"],[0.5555555555555556,\"#d8576b\"],[0.6666666666666666,\"#ed7953\"],[0.7777777777777778,\"#fb9f3a\"],[0.8888888888888888,\"#fdca26\"],[1.0,\"#f0f921\"]]}],\"choropleth\":[{\"type\":\"choropleth\",\"colorbar\":{\"outlinewidth\":0,\"ticks\":\"\"}}],\"histogram2d\":[{\"type\":\"histogram2d\",\"colorbar\":{\"outlinewidth\":0,\"ticks\":\"\"},\"colorscale\":[[0.0,\"#0d0887\"],[0.1111111111111111,\"#46039f\"],[0.2222222222222222,\"#7201a8\"],[0.3333333333333333,\"#9c179e\"],[0.4444444444444444,\"#bd3786\"],[0.5555555555555556,\"#d8576b\"],[0.6666666666666666,\"#ed7953\"],[0.7777777777777778,\"#fb9f3a\"],[0.8888888888888888,\"#fdca26\"],[1.0,\"#f0f921\"]]}],\"heatmap\":[{\"type\":\"heatmap\",\"colorbar\":{\"outlinewidth\":0,\"ticks\":\"\"},\"colorscale\":[[0.0,\"#0d0887\"],[0.1111111111111111,\"#46039f\"],[0.2222222222222222,\"#7201a8\"],[0.3333333333333333,\"#9c179e\"],[0.4444444444444444,\"#bd3786\"],[0.5555555555555556,\"#d8576b\"],[0.6666666666666666,\"#ed7953\"],[0.7777777777777778,\"#fb9f3a\"],[0.8888888888888888,\"#fdca26\"],[1.0,\"#f0f921\"]]}],\"heatmapgl\":[{\"type\":\"heatmapgl\",\"colorbar\":{\"outlinewidth\":0,\"ticks\":\"\"},\"colorscale\":[[0.0,\"#0d0887\"],[0.1111111111111111,\"#46039f\"],[0.2222222222222222,\"#7201a8\"],[0.3333333333333333,\"#9c179e\"],[0.4444444444444444,\"#bd3786\"],[0.5555555555555556,\"#d8576b\"],[0.6666666666666666,\"#ed7953\"],[0.7777777777777778,\"#fb9f3a\"],[0.8888888888888888,\"#fdca26\"],[1.0,\"#f0f921\"]]}],\"contourcarpet\":[{\"type\":\"contourcarpet\",\"colorbar\":{\"outlinewidth\":0,\"ticks\":\"\"}}],\"contour\":[{\"type\":\"contour\",\"colorbar\":{\"outlinewidth\":0,\"ticks\":\"\"},\"colorscale\":[[0.0,\"#0d0887\"],[0.1111111111111111,\"#46039f\"],[0.2222222222222222,\"#7201a8\"],[0.3333333333333333,\"#9c179e\"],[0.4444444444444444,\"#bd3786\"],[0.5555555555555556,\"#d8576b\"],[0.6666666666666666,\"#ed7953\"],[0.7777777777777778,\"#fb9f3a\"],[0.8888888888888888,\"#fdca26\"],[1.0,\"#f0f921\"]]}],\"surface\":[{\"type\":\"surface\",\"colorbar\":{\"outlinewidth\":0,\"ticks\":\"\"},\"colorscale\":[[0.0,\"#0d0887\"],[0.1111111111111111,\"#46039f\"],[0.2222222222222222,\"#7201a8\"],[0.3333333333333333,\"#9c179e\"],[0.4444444444444444,\"#bd3786\"],[0.5555555555555556,\"#d8576b\"],[0.6666666666666666,\"#ed7953\"],[0.7777777777777778,\"#fb9f3a\"],[0.8888888888888888,\"#fdca26\"],[1.0,\"#f0f921\"]]}],\"mesh3d\":[{\"type\":\"mesh3d\",\"colorbar\":{\"outlinewidth\":0,\"ticks\":\"\"}}],\"scatter\":[{\"fillpattern\":{\"fillmode\":\"overlay\",\"size\":10,\"solidity\":0.2},\"type\":\"scatter\"}],\"parcoords\":[{\"type\":\"parcoords\",\"line\":{\"colorbar\":{\"outlinewidth\":0,\"ticks\":\"\"}}}],\"scatterpolargl\":[{\"type\":\"scatterpolargl\",\"marker\":{\"colorbar\":{\"outlinewidth\":0,\"ticks\":\"\"}}}],\"bar\":[{\"error_x\":{\"color\":\"#2a3f5f\"},\"error_y\":{\"color\":\"#2a3f5f\"},\"marker\":{\"line\":{\"color\":\"#E5ECF6\",\"width\":0.5},\"pattern\":{\"fillmode\":\"overlay\",\"size\":10,\"solidity\":0.2}},\"type\":\"bar\"}],\"scattergeo\":[{\"type\":\"scattergeo\",\"marker\":{\"colorbar\":{\"outlinewidth\":0,\"ticks\":\"\"}}}],\"scatterpolar\":[{\"type\":\"scatterpolar\",\"marker\":{\"colorbar\":{\"outlinewidth\":0,\"ticks\":\"\"}}}],\"histogram\":[{\"marker\":{\"pattern\":{\"fillmode\":\"overlay\",\"size\":10,\"solidity\":0.2}},\"type\":\"histogram\"}],\"scattergl\":[{\"type\":\"scattergl\",\"marker\":{\"colorbar\":{\"outlinewidth\":0,\"ticks\":\"\"}}}],\"scatter3d\":[{\"type\":\"scatter3d\",\"line\":{\"colorbar\":{\"outlinewidth\":0,\"ticks\":\"\"}},\"marker\":{\"colorbar\":{\"outlinewidth\":0,\"ticks\":\"\"}}}],\"scattermapbox\":[{\"type\":\"scattermapbox\",\"marker\":{\"colorbar\":{\"outlinewidth\":0,\"ticks\":\"\"}}}],\"scatterternary\":[{\"type\":\"scatterternary\",\"marker\":{\"colorbar\":{\"outlinewidth\":0,\"ticks\":\"\"}}}],\"scattercarpet\":[{\"type\":\"scattercarpet\",\"marker\":{\"colorbar\":{\"outlinewidth\":0,\"ticks\":\"\"}}}],\"carpet\":[{\"aaxis\":{\"endlinecolor\":\"#2a3f5f\",\"gridcolor\":\"white\",\"linecolor\":\"white\",\"minorgridcolor\":\"white\",\"startlinecolor\":\"#2a3f5f\"},\"baxis\":{\"endlinecolor\":\"#2a3f5f\",\"gridcolor\":\"white\",\"linecolor\":\"white\",\"minorgridcolor\":\"white\",\"startlinecolor\":\"#2a3f5f\"},\"type\":\"carpet\"}],\"table\":[{\"cells\":{\"fill\":{\"color\":\"#EBF0F8\"},\"line\":{\"color\":\"white\"}},\"header\":{\"fill\":{\"color\":\"#C8D4E3\"},\"line\":{\"color\":\"white\"}},\"type\":\"table\"}],\"barpolar\":[{\"marker\":{\"line\":{\"color\":\"#E5ECF6\",\"width\":0.5},\"pattern\":{\"fillmode\":\"overlay\",\"size\":10,\"solidity\":0.2}},\"type\":\"barpolar\"}],\"pie\":[{\"automargin\":true,\"type\":\"pie\"}]},\"layout\":{\"autotypenumbers\":\"strict\",\"colorway\":[\"#636efa\",\"#EF553B\",\"#00cc96\",\"#ab63fa\",\"#FFA15A\",\"#19d3f3\",\"#FF6692\",\"#B6E880\",\"#FF97FF\",\"#FECB52\"],\"font\":{\"color\":\"#2a3f5f\"},\"hovermode\":\"closest\",\"hoverlabel\":{\"align\":\"left\"},\"paper_bgcolor\":\"white\",\"plot_bgcolor\":\"#E5ECF6\",\"polar\":{\"bgcolor\":\"#E5ECF6\",\"angularaxis\":{\"gridcolor\":\"white\",\"linecolor\":\"white\",\"ticks\":\"\"},\"radialaxis\":{\"gridcolor\":\"white\",\"linecolor\":\"white\",\"ticks\":\"\"}},\"ternary\":{\"bgcolor\":\"#E5ECF6\",\"aaxis\":{\"gridcolor\":\"white\",\"linecolor\":\"white\",\"ticks\":\"\"},\"baxis\":{\"gridcolor\":\"white\",\"linecolor\":\"white\",\"ticks\":\"\"},\"caxis\":{\"gridcolor\":\"white\",\"linecolor\":\"white\",\"ticks\":\"\"}},\"coloraxis\":{\"colorbar\":{\"outlinewidth\":0,\"ticks\":\"\"}},\"colorscale\":{\"sequential\":[[0.0,\"#0d0887\"],[0.1111111111111111,\"#46039f\"],[0.2222222222222222,\"#7201a8\"],[0.3333333333333333,\"#9c179e\"],[0.4444444444444444,\"#bd3786\"],[0.5555555555555556,\"#d8576b\"],[0.6666666666666666,\"#ed7953\"],[0.7777777777777778,\"#fb9f3a\"],[0.8888888888888888,\"#fdca26\"],[1.0,\"#f0f921\"]],\"sequentialminus\":[[0.0,\"#0d0887\"],[0.1111111111111111,\"#46039f\"],[0.2222222222222222,\"#7201a8\"],[0.3333333333333333,\"#9c179e\"],[0.4444444444444444,\"#bd3786\"],[0.5555555555555556,\"#d8576b\"],[0.6666666666666666,\"#ed7953\"],[0.7777777777777778,\"#fb9f3a\"],[0.8888888888888888,\"#fdca26\"],[1.0,\"#f0f921\"]],\"diverging\":[[0,\"#8e0152\"],[0.1,\"#c51b7d\"],[0.2,\"#de77ae\"],[0.3,\"#f1b6da\"],[0.4,\"#fde0ef\"],[0.5,\"#f7f7f7\"],[0.6,\"#e6f5d0\"],[0.7,\"#b8e186\"],[0.8,\"#7fbc41\"],[0.9,\"#4d9221\"],[1,\"#276419\"]]},\"xaxis\":{\"gridcolor\":\"white\",\"linecolor\":\"white\",\"ticks\":\"\",\"title\":{\"standoff\":15},\"zerolinecolor\":\"white\",\"automargin\":true,\"zerolinewidth\":2},\"yaxis\":{\"gridcolor\":\"white\",\"linecolor\":\"white\",\"ticks\":\"\",\"title\":{\"standoff\":15},\"zerolinecolor\":\"white\",\"automargin\":true,\"zerolinewidth\":2},\"scene\":{\"xaxis\":{\"backgroundcolor\":\"#E5ECF6\",\"gridcolor\":\"white\",\"linecolor\":\"white\",\"showbackground\":true,\"ticks\":\"\",\"zerolinecolor\":\"white\",\"gridwidth\":2},\"yaxis\":{\"backgroundcolor\":\"#E5ECF6\",\"gridcolor\":\"white\",\"linecolor\":\"white\",\"showbackground\":true,\"ticks\":\"\",\"zerolinecolor\":\"white\",\"gridwidth\":2},\"zaxis\":{\"backgroundcolor\":\"#E5ECF6\",\"gridcolor\":\"white\",\"linecolor\":\"white\",\"showbackground\":true,\"ticks\":\"\",\"zerolinecolor\":\"white\",\"gridwidth\":2}},\"shapedefaults\":{\"line\":{\"color\":\"#2a3f5f\"}},\"annotationdefaults\":{\"arrowcolor\":\"#2a3f5f\",\"arrowhead\":0,\"arrowwidth\":1},\"geo\":{\"bgcolor\":\"white\",\"landcolor\":\"#E5ECF6\",\"subunitcolor\":\"white\",\"showland\":true,\"showlakes\":true,\"lakecolor\":\"white\"},\"title\":{\"x\":0.05},\"mapbox\":{\"style\":\"light\"}}},\"scene\":{\"domain\":{\"x\":[0.0,1.0],\"y\":[0.0,1.0]},\"xaxis\":{\"title\":{\"text\":\"x\"}},\"yaxis\":{\"title\":{\"text\":\"y\"}},\"zaxis\":{\"title\":{\"text\":\"z\"}}},\"legend\":{\"tracegroupgap\":0},\"title\":{\"text\":\"3D Scatter Plot\"}},                        {\"responsive\": true}                    ).then(function(){\n",
              "                            \n",
              "var gd = document.getElementById('ab6feb72-f7c1-4db5-9704-6e77b15af1b1');\n",
              "var x = new MutationObserver(function (mutations, observer) {{\n",
              "        var display = window.getComputedStyle(gd).display;\n",
              "        if (!display || display === 'none') {{\n",
              "            console.log([gd, 'removed!']);\n",
              "            Plotly.purge(gd);\n",
              "            observer.disconnect();\n",
              "        }}\n",
              "}});\n",
              "\n",
              "// Listen for the removal of the full notebook cells\n",
              "var notebookContainer = gd.closest('#notebook-container');\n",
              "if (notebookContainer) {{\n",
              "    x.observe(notebookContainer, {childList: true});\n",
              "}}\n",
              "\n",
              "// Listen for the clearing of the current output cell\n",
              "var outputEl = gd.closest('.output');\n",
              "if (outputEl) {{\n",
              "    x.observe(outputEl, {childList: true});\n",
              "}}\n",
              "\n",
              "                        })                };                            </script>        </div>\n",
              "</body>\n",
              "</html>"
            ]
          },
          "metadata": {}
        }
      ]
    }
  ]
}